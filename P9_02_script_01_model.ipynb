{
  "cells": [
    {
      "cell_type": "markdown",
      "metadata": {
        "nteract": {
          "transient": {
            "deleting": false
          }
        }
      },
      "source": [
        "# PROJET 9 : Réalisez une application mobile de recommandation de contenu"
      ]
    },
    {
      "cell_type": "markdown",
      "metadata": {
        "nteract": {
          "transient": {
            "deleting": false
          }
        }
      },
      "source": [
        "## importation des librairies"
      ]
    },
    {
      "cell_type": "code",
      "execution_count": 1,
      "metadata": {
        "gather": {
          "logged": 1651433978359
        },
        "jupyter": {
          "outputs_hidden": false,
          "source_hidden": false
        },
        "nteract": {
          "transient": {
            "deleting": false
          }
        }
      },
      "outputs": [
        {
          "name": "stdout",
          "output_type": "stream",
          "text": [
            "Collecting surprise\n",
            "  Downloading surprise-0.1-py2.py3-none-any.whl (1.8 kB)\n",
            "Collecting scikit-surprise\n",
            "  Downloading scikit-surprise-1.1.1.tar.gz (11.8 MB)\n",
            "\u001b[K     |████████████████████████████████| 11.8 MB 4.0 MB/s eta 0:00:01\n",
            "\u001b[?25hRequirement already satisfied, skipping upgrade: joblib>=0.11 in /anaconda/envs/azureml_py38/lib/python3.8/site-packages (from scikit-surprise->surprise) (0.14.1)\n",
            "Requirement already satisfied, skipping upgrade: numpy>=1.11.2 in /anaconda/envs/azureml_py38/lib/python3.8/site-packages (from scikit-surprise->surprise) (1.19.0)\n",
            "Requirement already satisfied, skipping upgrade: scipy>=1.0.0 in /anaconda/envs/azureml_py38/lib/python3.8/site-packages (from scikit-surprise->surprise) (1.5.2)\n",
            "Requirement already satisfied, skipping upgrade: six>=1.10.0 in /anaconda/envs/azureml_py38/lib/python3.8/site-packages (from scikit-surprise->surprise) (1.16.0)\n",
            "Building wheels for collected packages: scikit-surprise\n",
            "  Building wheel for scikit-surprise (setup.py) ... \u001b[?25l-\b \b\\\b \b|\b \b/\b \b-\b \b\\\b \b|\b \b/\b \b-\b \b\\\b \b|\b \bdone\n",
            "\u001b[?25h  Created wheel for scikit-surprise: filename=scikit_surprise-1.1.1-cp38-cp38-linux_x86_64.whl size=1834445 sha256=13ec88d8ca270296876646246968098725bc02ca23f13aa1d14bd1925eb32d5a\n",
            "  Stored in directory: /home/azureuser/.cache/pip/wheels/20/91/57/2965d4cff1b8ac7ed1b6fa25741882af3974b54a31759e10b6\n",
            "Successfully built scikit-surprise\n",
            "Installing collected packages: scikit-surprise, surprise\n",
            "Successfully installed scikit-surprise-1.1.1 surprise-0.1\n",
            "Note: you may need to restart the kernel to use updated packages.\n"
          ]
        }
      ],
      "source": [
        "pip install --upgrade surprise"
      ]
    },
    {
      "cell_type": "code",
      "execution_count": 2,
      "metadata": {
        "gather": {
          "logged": 1651433982352
        },
        "jupyter": {
          "outputs_hidden": false,
          "source_hidden": false
        },
        "nteract": {
          "transient": {
            "deleting": false
          }
        }
      },
      "outputs": [
        {
          "name": "stdout",
          "output_type": "stream",
          "text": [
            "Requirement already satisfied: missingno in /anaconda/envs/azureml_py38/lib/python3.8/site-packages (0.5.1)\n",
            "Requirement already satisfied: matplotlib in /anaconda/envs/azureml_py38/lib/python3.8/site-packages (from missingno) (3.2.1)\n",
            "Requirement already satisfied: numpy in /anaconda/envs/azureml_py38/lib/python3.8/site-packages (from missingno) (1.19.0)\n",
            "Requirement already satisfied: seaborn in /anaconda/envs/azureml_py38/lib/python3.8/site-packages (from missingno) (0.11.2)\n",
            "Requirement already satisfied: scipy in /anaconda/envs/azureml_py38/lib/python3.8/site-packages (from missingno) (1.5.2)\n",
            "Requirement already satisfied: python-dateutil>=2.1 in /anaconda/envs/azureml_py38/lib/python3.8/site-packages (from matplotlib->missingno) (2.8.2)\n",
            "Requirement already satisfied: pyparsing!=2.0.4,!=2.1.2,!=2.1.6,>=2.0.1 in /anaconda/envs/azureml_py38/lib/python3.8/site-packages (from matplotlib->missingno) (3.0.7)\n",
            "Requirement already satisfied: kiwisolver>=1.0.1 in /anaconda/envs/azureml_py38/lib/python3.8/site-packages (from matplotlib->missingno) (1.4.2)\n",
            "Requirement already satisfied: cycler>=0.10 in /anaconda/envs/azureml_py38/lib/python3.8/site-packages (from matplotlib->missingno) (0.11.0)\n",
            "Requirement already satisfied: pandas>=0.23 in /anaconda/envs/azureml_py38/lib/python3.8/site-packages (from seaborn->missingno) (1.1.5)\n",
            "Requirement already satisfied: six>=1.5 in /anaconda/envs/azureml_py38/lib/python3.8/site-packages (from python-dateutil>=2.1->matplotlib->missingno) (1.16.0)\n",
            "Requirement already satisfied: pytz>=2017.2 in /anaconda/envs/azureml_py38/lib/python3.8/site-packages (from pandas>=0.23->seaborn->missingno) (2019.3)\n",
            "Note: you may need to restart the kernel to use updated packages.\n"
          ]
        }
      ],
      "source": [
        "pip install missingno"
      ]
    },
    {
      "cell_type": "code",
      "execution_count": 3,
      "metadata": {
        "gather": {
          "logged": 1651433991651
        },
        "jupyter": {
          "outputs_hidden": false,
          "source_hidden": false
        },
        "nteract": {
          "transient": {
            "deleting": false
          }
        }
      },
      "outputs": [],
      "source": [
        "import os\n",
        "\n",
        "import random\n",
        "\n",
        "import pandas as pd\n",
        "import numpy as np\n",
        "from collections import defaultdict\n",
        "\n",
        "import seaborn as sns\n",
        "import matplotlib.pyplot as plt\n",
        "%matplotlib inline\n",
        "\n",
        "import missingno\n",
        "\n",
        "import sklearn\n",
        "import sklearn.model_selection\n",
        "\n",
        "from surprise import NormalPredictor\n",
        "from surprise import Dataset\n",
        "from surprise import Reader\n",
        "from surprise.model_selection import cross_validate, train_test_split, GridSearchCV\n",
        "from surprise import KNNWithMeans, SVD\n",
        "from surprise import accuracy\n",
        "\n",
        "import pickle\n",
        "\n",
        "import glob\n",
        "\n",
        "#Settings\n",
        "pd.set_option('display.max_columns', None)\n",
        "sns.set(color_codes=True)\n",
        "\n",
        "#To be avoided in your notebook.\n",
        "import warnings\n",
        "warnings.filterwarnings(\"ignore\")"
      ]
    },
    {
      "cell_type": "markdown",
      "metadata": {
        "nteract": {
          "transient": {
            "deleting": false
          }
        }
      },
      "source": [
        "## Analyse exploratoire des données"
      ]
    },
    {
      "cell_type": "markdown",
      "metadata": {
        "nteract": {
          "transient": {
            "deleting": false
          }
        }
      },
      "source": [
        "### Contenu de l’ensemble de données\n",
        ">- **articles_metadata.csv** : fichier CSV contenant des métadonnées sur tous les articles publiés (364047)\n",
        "\n",
        ">- **articles_embeddings.pickle** : Pickle (Python 3) d’une matrice NumPy contenant les Articles Content Embeddings (vecteurs à 250 dimensions), formés au texte et aux métadonnées des articles par le module ACR de CHAMELEON (voir l’article pour plus de détails) pour 364047 articles publiés.\n",
        "\n",
        ">- **clics** : Dossier contenant des fichiers CSV (un par heure), contenant les interactions des sessions utilisateur dans le portail de nouvelles.\n",
        "\n",
        ">- **clicks_sample.csv** : fichier CSV contenant les interactions des sessions utilisateur dans le portail de nouvelles.\n"
      ]
    },
    {
      "cell_type": "code",
      "execution_count": 4,
      "metadata": {
        "gather": {
          "logged": 1651433991828
        },
        "jupyter": {
          "outputs_hidden": false,
          "source_hidden": false
        },
        "nteract": {
          "transient": {
            "deleting": false
          }
        }
      },
      "outputs": [
        {
          "name": "stdout",
          "output_type": "stream",
          "text": [
            ".amlignore\n",
            ".amlignore.amltmp\n",
            "articles_embeddings.pickle\n",
            "articles_metadata.csv\n",
            "clicks\n",
            "clicks_sample.csv\n"
          ]
        }
      ],
      "source": [
        "[print(x) for x in os.listdir('./input')];"
      ]
    },
    {
      "cell_type": "markdown",
      "metadata": {
        "nteract": {
          "transient": {
            "deleting": false
          }
        }
      },
      "source": [
        "## articles_metadata.csv\n",
        "\n",
        "### Contenu"
      ]
    },
    {
      "cell_type": "code",
      "execution_count": 5,
      "metadata": {
        "gather": {
          "logged": 1651433992075
        },
        "jupyter": {
          "outputs_hidden": false,
          "source_hidden": false
        },
        "nteract": {
          "transient": {
            "deleting": false
          }
        }
      },
      "outputs": [],
      "source": [
        "PATH_ARTICLES_DATA = \"./input/articles_metadata.csv\"\n",
        "articles_df = pd.read_csv(PATH_ARTICLES_DATA)"
      ]
    },
    {
      "cell_type": "code",
      "execution_count": 6,
      "metadata": {
        "gather": {
          "logged": 1651433992261
        },
        "jupyter": {
          "outputs_hidden": false,
          "source_hidden": false
        },
        "nteract": {
          "transient": {
            "deleting": false
          }
        }
      },
      "outputs": [
        {
          "data": {
            "text/html": [
              "<div>\n",
              "<style scoped>\n",
              "    .dataframe tbody tr th:only-of-type {\n",
              "        vertical-align: middle;\n",
              "    }\n",
              "\n",
              "    .dataframe tbody tr th {\n",
              "        vertical-align: top;\n",
              "    }\n",
              "\n",
              "    .dataframe thead th {\n",
              "        text-align: right;\n",
              "    }\n",
              "</style>\n",
              "<table border=\"1\" class=\"dataframe\">\n",
              "  <thead>\n",
              "    <tr style=\"text-align: right;\">\n",
              "      <th></th>\n",
              "      <th>article_id</th>\n",
              "      <th>category_id</th>\n",
              "      <th>created_at_ts</th>\n",
              "      <th>publisher_id</th>\n",
              "      <th>words_count</th>\n",
              "    </tr>\n",
              "  </thead>\n",
              "  <tbody>\n",
              "    <tr>\n",
              "      <th>0</th>\n",
              "      <td>0</td>\n",
              "      <td>0</td>\n",
              "      <td>1513144419000</td>\n",
              "      <td>0</td>\n",
              "      <td>168</td>\n",
              "    </tr>\n",
              "    <tr>\n",
              "      <th>1</th>\n",
              "      <td>1</td>\n",
              "      <td>1</td>\n",
              "      <td>1405341936000</td>\n",
              "      <td>0</td>\n",
              "      <td>189</td>\n",
              "    </tr>\n",
              "    <tr>\n",
              "      <th>2</th>\n",
              "      <td>2</td>\n",
              "      <td>1</td>\n",
              "      <td>1408667706000</td>\n",
              "      <td>0</td>\n",
              "      <td>250</td>\n",
              "    </tr>\n",
              "    <tr>\n",
              "      <th>3</th>\n",
              "      <td>3</td>\n",
              "      <td>1</td>\n",
              "      <td>1408468313000</td>\n",
              "      <td>0</td>\n",
              "      <td>230</td>\n",
              "    </tr>\n",
              "    <tr>\n",
              "      <th>4</th>\n",
              "      <td>4</td>\n",
              "      <td>1</td>\n",
              "      <td>1407071171000</td>\n",
              "      <td>0</td>\n",
              "      <td>162</td>\n",
              "    </tr>\n",
              "  </tbody>\n",
              "</table>\n",
              "</div>"
            ],
            "text/plain": [
              "   article_id  category_id  created_at_ts  publisher_id  words_count\n",
              "0           0            0  1513144419000             0          168\n",
              "1           1            1  1405341936000             0          189\n",
              "2           2            1  1408667706000             0          250\n",
              "3           3            1  1408468313000             0          230\n",
              "4           4            1  1407071171000             0          162"
            ]
          },
          "execution_count": 6,
          "metadata": {},
          "output_type": "execute_result"
        }
      ],
      "source": [
        "articles_df.head(5)"
      ]
    },
    {
      "cell_type": "markdown",
      "metadata": {
        "nteract": {
          "transient": {
            "deleting": false
          }
        }
      },
      "source": [
        "articles_metadata.csv contient 5 colonnes :\n",
        "\n",
        ">- **article_id** : ID de l’article\n",
        "\n",
        ">- **category_id** : ID de catégorie de l’article\n",
        "\n",
        ">- **created_at_ts** : Date de création (horodatage)\n",
        "\n",
        ">- **publisher_id** : ID de l’éditeur\n",
        "\n",
        ">- **words_count** : Total des mots contenus dans l’article\n"
      ]
    },
    {
      "cell_type": "markdown",
      "metadata": {
        "nteract": {
          "transient": {
            "deleting": false
          }
        }
      },
      "source": [
        "## Valeurs manquantes"
      ]
    },
    {
      "cell_type": "code",
      "execution_count": 7,
      "metadata": {
        "gather": {
          "logged": 1651433993009
        },
        "jupyter": {
          "outputs_hidden": false,
          "source_hidden": false
        },
        "nteract": {
          "transient": {
            "deleting": false
          }
        }
      },
      "outputs": [
        {
          "data": {
            "image/png": "[encoded data removed]",
            "text/plain": [
              "<Figure size 1800x720 with 2 Axes>"
            ]
          },
          "metadata": {},
          "output_type": "display_data"
        }
      ],
      "source": [
        "missingno.matrix(articles_df);"
      ]
    },
    {
      "cell_type": "markdown",
      "metadata": {
        "nteract": {
          "transient": {
            "deleting": false
          }
        }
      },
      "source": [
        "Aucune valeur n’est manquante."
      ]
    },
    {
      "cell_type": "code",
      "execution_count": 8,
      "metadata": {
        "gather": {
          "logged": 1651433993181
        },
        "jupyter": {
          "outputs_hidden": false,
          "source_hidden": false
        },
        "nteract": {
          "transient": {
            "deleting": false
          }
        }
      },
      "outputs": [
        {
          "data": {
            "text/plain": [
              "count    364047.000000\n",
              "mean        190.897727\n",
              "std          59.502766\n",
              "min           0.000000\n",
              "25%         159.000000\n",
              "50%         186.000000\n",
              "75%         218.000000\n",
              "max        6690.000000\n",
              "Name: words_count, dtype: float64"
            ]
          },
          "execution_count": 8,
          "metadata": {},
          "output_type": "execute_result"
        }
      ],
      "source": [
        "articles_df['words_count'].describe()"
      ]
    },
    {
      "cell_type": "code",
      "execution_count": 9,
      "metadata": {
        "gather": {
          "logged": 1651434000745
        },
        "jupyter": {
          "outputs_hidden": false,
          "source_hidden": false
        },
        "nteract": {
          "transient": {
            "deleting": false
          }
        }
      },
      "outputs": [
        {
          "data": {
            "image/png": "[encoded data removed]",
            "text/plain": [
              "<Figure size 864x576 with 1 Axes>"
            ]
          },
          "metadata": {},
          "output_type": "display_data"
        }
      ],
      "source": [
        "fig, ax = plt.subplots(figsize=(12, 8))\n",
        "\n",
        "sns.histplot(articles_df['words_count'],\n",
        "            color=\"deepskyblue\",\n",
        "            edgecolor=\"black\",\n",
        "            alpha=0.7,\n",
        "            ax=ax)\n",
        "\n",
        "plt.xlim([0,400])\n",
        "plt.title('Distribution de mots par article');\n",
        "plt.show()"
      ]
    },
    {
      "cell_type": "code",
      "execution_count": 10,
      "metadata": {
        "gather": {
          "logged": 1651434000948
        },
        "jupyter": {
          "outputs_hidden": false,
          "source_hidden": false
        },
        "nteract": {
          "transient": {
            "deleting": false
          }
        }
      },
      "outputs": [
        {
          "name": "stdout",
          "output_type": "stream",
          "text": [
            "Article vide(s) : 35\n"
          ]
        }
      ],
      "source": [
        "print(f'Article vide(s) : {articles_df[articles_df[\"words_count\"] == 0].count()[0]}')"
      ]
    },
    {
      "cell_type": "code",
      "execution_count": 11,
      "metadata": {
        "gather": {
          "logged": 1651434001359
        },
        "jupyter": {
          "outputs_hidden": false,
          "source_hidden": false
        },
        "nteract": {
          "transient": {
            "deleting": false
          }
        }
      },
      "outputs": [
        {
          "data": {
            "image/png": "[encoded data removed]",
            "text/plain": [
              "<Figure size 864x576 with 1 Axes>"
            ]
          },
          "metadata": {},
          "output_type": "display_data"
        }
      ],
      "source": [
        "fig, ax = plt.subplots(figsize=(12, 8))\n",
        "\n",
        "sns.histplot(articles_df['category_id'],\n",
        "            color=\"deepskyblue\",\n",
        "            edgecolor=\"black\",\n",
        "            alpha=0.7,\n",
        "            ax=ax)\n",
        "\n",
        "plt.title('Répartition par catégories');\n",
        "plt.show()"
      ]
    },
    {
      "cell_type": "markdown",
      "metadata": {
        "nteract": {
          "transient": {
            "deleting": false
          }
        }
      },
      "source": [
        "## clicks_{}.csv\n",
        "\n",
        "### Contenu"
      ]
    },
    {
      "cell_type": "code",
      "execution_count": 12,
      "metadata": {
        "gather": {
          "logged": 1651434001488
        },
        "jupyter": {
          "outputs_hidden": false,
          "source_hidden": false
        },
        "nteract": {
          "transient": {
            "deleting": false
          }
        }
      },
      "outputs": [],
      "source": [
        "PATH_CLICK_SAMPLE_DATA = \"./input/clicks_sample.csv\"\n",
        "clicks_samp_df = pd.read_csv(PATH_CLICK_SAMPLE_DATA)"
      ]
    },
    {
      "cell_type": "code",
      "execution_count": 13,
      "metadata": {
        "gather": {
          "logged": 1651434007994
        },
        "jupyter": {
          "outputs_hidden": false,
          "source_hidden": false
        },
        "nteract": {
          "transient": {
            "deleting": false
          }
        }
      },
      "outputs": [
        {
          "data": {
            "text/html": [
              "<div>\n",
              "<style scoped>\n",
              "    .dataframe tbody tr th:only-of-type {\n",
              "        vertical-align: middle;\n",
              "    }\n",
              "\n",
              "    .dataframe tbody tr th {\n",
              "        vertical-align: top;\n",
              "    }\n",
              "\n",
              "    .dataframe thead th {\n",
              "        text-align: right;\n",
              "    }\n",
              "</style>\n",
              "<table border=\"1\" class=\"dataframe\">\n",
              "  <thead>\n",
              "    <tr style=\"text-align: right;\">\n",
              "      <th></th>\n",
              "      <th>user_id</th>\n",
              "      <th>session_id</th>\n",
              "      <th>session_start</th>\n",
              "      <th>session_size</th>\n",
              "      <th>click_article_id</th>\n",
              "      <th>click_timestamp</th>\n",
              "      <th>click_environment</th>\n",
              "      <th>click_deviceGroup</th>\n",
              "      <th>click_os</th>\n",
              "      <th>click_country</th>\n",
              "      <th>click_region</th>\n",
              "      <th>click_referrer_type</th>\n",
              "    </tr>\n",
              "  </thead>\n",
              "  <tbody>\n",
              "    <tr>\n",
              "      <th>0</th>\n",
              "      <td>0</td>\n",
              "      <td>1506825423271737</td>\n",
              "      <td>1506825423000</td>\n",
              "      <td>2</td>\n",
              "      <td>157541</td>\n",
              "      <td>1506826828020</td>\n",
              "      <td>4</td>\n",
              "      <td>3</td>\n",
              "      <td>20</td>\n",
              "      <td>1</td>\n",
              "      <td>20</td>\n",
              "      <td>2</td>\n",
              "    </tr>\n",
              "    <tr>\n",
              "      <th>1</th>\n",
              "      <td>0</td>\n",
              "      <td>1506825423271737</td>\n",
              "      <td>1506825423000</td>\n",
              "      <td>2</td>\n",
              "      <td>68866</td>\n",
              "      <td>1506826858020</td>\n",
              "      <td>4</td>\n",
              "      <td>3</td>\n",
              "      <td>20</td>\n",
              "      <td>1</td>\n",
              "      <td>20</td>\n",
              "      <td>2</td>\n",
              "    </tr>\n",
              "    <tr>\n",
              "      <th>2</th>\n",
              "      <td>1</td>\n",
              "      <td>1506825426267738</td>\n",
              "      <td>1506825426000</td>\n",
              "      <td>2</td>\n",
              "      <td>235840</td>\n",
              "      <td>1506827017951</td>\n",
              "      <td>4</td>\n",
              "      <td>1</td>\n",
              "      <td>17</td>\n",
              "      <td>1</td>\n",
              "      <td>16</td>\n",
              "      <td>2</td>\n",
              "    </tr>\n",
              "    <tr>\n",
              "      <th>3</th>\n",
              "      <td>1</td>\n",
              "      <td>1506825426267738</td>\n",
              "      <td>1506825426000</td>\n",
              "      <td>2</td>\n",
              "      <td>96663</td>\n",
              "      <td>1506827047951</td>\n",
              "      <td>4</td>\n",
              "      <td>1</td>\n",
              "      <td>17</td>\n",
              "      <td>1</td>\n",
              "      <td>16</td>\n",
              "      <td>2</td>\n",
              "    </tr>\n",
              "    <tr>\n",
              "      <th>4</th>\n",
              "      <td>2</td>\n",
              "      <td>1506825435299739</td>\n",
              "      <td>1506825435000</td>\n",
              "      <td>2</td>\n",
              "      <td>119592</td>\n",
              "      <td>1506827090575</td>\n",
              "      <td>4</td>\n",
              "      <td>1</td>\n",
              "      <td>17</td>\n",
              "      <td>1</td>\n",
              "      <td>24</td>\n",
              "      <td>2</td>\n",
              "    </tr>\n",
              "  </tbody>\n",
              "</table>\n",
              "</div>"
            ],
            "text/plain": [
              "   user_id        session_id  session_start  session_size  click_article_id  \\\n",
              "0        0  1506825423271737  1506825423000             2            157541   \n",
              "1        0  1506825423271737  1506825423000             2             68866   \n",
              "2        1  1506825426267738  1506825426000             2            235840   \n",
              "3        1  1506825426267738  1506825426000             2             96663   \n",
              "4        2  1506825435299739  1506825435000             2            119592   \n",
              "\n",
              "   click_timestamp  click_environment  click_deviceGroup  click_os  \\\n",
              "0    1506826828020                  4                  3        20   \n",
              "1    1506826858020                  4                  3        20   \n",
              "2    1506827017951                  4                  1        17   \n",
              "3    1506827047951                  4                  1        17   \n",
              "4    1506827090575                  4                  1        17   \n",
              "\n",
              "   click_country  click_region  click_referrer_type  \n",
              "0              1            20                    2  \n",
              "1              1            20                    2  \n",
              "2              1            16                    2  \n",
              "3              1            16                    2  \n",
              "4              1            24                    2  "
            ]
          },
          "execution_count": 13,
          "metadata": {},
          "output_type": "execute_result"
        }
      ],
      "source": [
        "clicks_samp_df.head(5)"
      ]
    },
    {
      "cell_type": "code",
      "execution_count": 14,
      "metadata": {
        "gather": {
          "logged": 1651434010143
        },
        "jupyter": {
          "outputs_hidden": false,
          "source_hidden": false
        },
        "nteract": {
          "transient": {
            "deleting": false
          }
        }
      },
      "outputs": [
        {
          "name": "stdout",
          "output_type": "stream",
          "text": [
            "user_id\n",
            "session_id\n",
            "session_start\n",
            "session_size\n",
            "click_article_id\n",
            "click_timestamp\n",
            "click_environment\n",
            "click_deviceGroup\n",
            "click_os\n",
            "click_country\n",
            "click_region\n",
            "click_referrer_type\n"
          ]
        }
      ],
      "source": [
        "[print(x) for x in clicks_samp_df.columns];"
      ]
    },
    {
      "cell_type": "markdown",
      "metadata": {
        "nteract": {
          "transient": {
            "deleting": false
          }
        }
      },
      "source": [
        "clicks_{}. csv contient 12 colonnes :\n",
        "\n",
        ">- **user_id** : ID utilisateur\n",
        "\n",
        ">- **session_id** : Session ID\n",
        "\n",
        ">- **session_start** : Début de la session (horodatage)\n",
        "\n",
        ">- **session_size** : nombre de clics/session\n",
        "\n",
        ">- **words_count** : Total word contain in the article\n",
        "\n",
        ">- **click_article_id** : l’utilisateur de l’ID de l’article a cliqué\n",
        "\n",
        ">- **click_timestamp** : Lorsque l’utilisateur clique (timestamp)\n",
        "\n",
        ">- **click_environment** : Environnement utilisateur lorsque vous cliquez\n",
        "\n",
        ">- **click_deviceGroup** : périphérique utilisateur\n",
        "\n",
        ">- **click_os** : système d’exploitation utilisateur\n",
        "\n",
        ">- **click_country** : localisation (pays) lorsque l’utilisateur clique\n",
        "\n",
        ">- **click_region** : localisation (région) lorsque l’utilisateur clique\n",
        "\n",
        ">- **click_referrer_type** : ?\n",
        "\n"
      ]
    },
    {
      "cell_type": "markdown",
      "metadata": {
        "nteract": {
          "transient": {
            "deleting": false
          }
        }
      },
      "source": [
        "## Répartition\n",
        "\n",
        "Concassons tous les fichiers de clics et observons nos données"
      ]
    },
    {
      "cell_type": "code",
      "execution_count": 15,
      "metadata": {
        "gather": {
          "logged": 1651434042035
        },
        "jupyter": {
          "outputs_hidden": false,
          "source_hidden": false
        },
        "nteract": {
          "transient": {
            "deleting": false
          }
        }
      },
      "outputs": [],
      "source": [
        "# Concatenation des differents fichiers que constitue le jeu de données\n",
        "all_files = glob.glob(\"input/clicks/*.csv\")\n",
        "data = []\n",
        "for filename in all_files:\n",
        "    df = pd.read_csv(filename, index_col=None, header=0)\n",
        "    data.append(df)\n",
        "\n",
        "clicks = pd.concat(data, axis=0, ignore_index=True)"
      ]
    },
    {
      "cell_type": "code",
      "execution_count": 16,
      "metadata": {
        "gather": {
          "logged": 1651434042224
        },
        "jupyter": {
          "outputs_hidden": false,
          "source_hidden": false
        },
        "nteract": {
          "transient": {
            "deleting": false
          }
        }
      },
      "outputs": [
        {
          "name": "stdout",
          "output_type": "stream",
          "text": [
            "DataFrame shape : (2988181, 2)\n"
          ]
        }
      ],
      "source": [
        "# Supprimer les colonnes inutilisées\n",
        "all_clicks_df = clicks.drop(['session_id','session_start','session_size','click_timestamp','click_environment','click_deviceGroup',\n",
        "'click_os','click_country','click_region','click_referrer_type'], axis = 1)\n",
        "\n",
        "print(f\"DataFrame shape : {all_clicks_df.shape}\")"
      ]
    },
    {
      "cell_type": "markdown",
      "metadata": {
        "nteract": {
          "transient": {
            "deleting": false
          }
        }
      },
      "source": [
        "## Élaborer nos modèles de recommandation"
      ]
    },
    {
      "cell_type": "markdown",
      "metadata": {
        "nteract": {
          "transient": {
            "deleting": false
          }
        }
      },
      "source": [
        "[Lien utile : créer un filtre collaboratif pour le moteur de recommandation](https://realpython.com/build-recommendation-engine-collaborative-filtering/)"
      ]
    },
    {
      "cell_type": "markdown",
      "metadata": {
        "nteract": {
          "transient": {
            "deleting": false
          }
        }
      },
      "source": [
        "### Préparation des données"
      ]
    },
    {
      "cell_type": "markdown",
      "metadata": {
        "nteract": {
          "transient": {
            "deleting": false
          }
        }
      },
      "source": [
        "Pour notre modèle de recommandation, nous devons trouver un système de notation pour aider le modèle à comprendre les préférences de chaque utilisateur.\n",
        "\n",
        "J’ai décidé de procéder comme ça :\n",
        "\n",
        "Rating = total-clic-par-catégorie-par-utilisateur / total-clic-fait-par-utilisateur"
      ]
    },
    {
      "cell_type": "code",
      "execution_count": 17,
      "metadata": {
        "gather": {
          "logged": 1651434116013
        },
        "jupyter": {
          "outputs_hidden": false,
          "source_hidden": false
        },
        "nteract": {
          "transient": {
            "deleting": false
          }
        }
      },
      "outputs": [
        {
          "name": "stdout",
          "output_type": "stream",
          "text": [
            "Forme avant de déposer un duplicata  : (2988181, 6)\n",
            "Forme après le dépôt du duplicata  : (1882302, 5)\n"
          ]
        }
      ],
      "source": [
        "# Créer une carte pour convertir article_id en catégorie\n",
        "dict_article_categories = articles_df.set_index('article_id')['category_id'].to_dict()\n",
        "\n",
        "# Obtenir un associé Categorie pour chaque article \n",
        "all_clicks_df['category_id'] = all_clicks_df['click_article_id'].map(dict_article_categories).astype(int)\n",
        "all_clicks_df['total_click'] = all_clicks_df.groupby(['user_id'])['click_article_id'].transform('count')\n",
        "all_clicks_df['total_click_by_category_id'] = all_clicks_df.groupby(['user_id','category_id'])['click_article_id'].transform('count')\n",
        "all_clicks_df['rating'] = all_clicks_df['total_click_by_category_id'] / all_clicks_df['total_click']\n",
        "\n",
        "print(f'Forme avant de déposer un duplicata  : {all_clicks_df.shape}')\n",
        "all_clicks_df = all_clicks_df.drop(['click_article_id'], axis=1)\n",
        "all_clicks_df = all_clicks_df.drop_duplicates()\n",
        "print(f'Forme après le dépôt du duplicata  : {all_clicks_df.shape}')"
      ]
    },
    {
      "cell_type": "code",
      "execution_count": 18,
      "metadata": {
        "gather": {
          "logged": 1651434125620
        },
        "jupyter": {
          "outputs_hidden": false,
          "source_hidden": false
        },
        "nteract": {
          "transient": {
            "deleting": false
          }
        }
      },
      "outputs": [
        {
          "data": {
            "text/html": [
              "<div>\n",
              "<style scoped>\n",
              "    .dataframe tbody tr th:only-of-type {\n",
              "        vertical-align: middle;\n",
              "    }\n",
              "\n",
              "    .dataframe tbody tr th {\n",
              "        vertical-align: top;\n",
              "    }\n",
              "\n",
              "    .dataframe thead th {\n",
              "        text-align: right;\n",
              "    }\n",
              "</style>\n",
              "<table border=\"1\" class=\"dataframe\">\n",
              "  <thead>\n",
              "    <tr style=\"text-align: right;\">\n",
              "      <th></th>\n",
              "      <th>user_id</th>\n",
              "      <th>category_id</th>\n",
              "      <th>rating</th>\n",
              "    </tr>\n",
              "  </thead>\n",
              "  <tbody>\n",
              "    <tr>\n",
              "      <th>0</th>\n",
              "      <td>0</td>\n",
              "      <td>281</td>\n",
              "      <td>0.250</td>\n",
              "    </tr>\n",
              "    <tr>\n",
              "      <th>1</th>\n",
              "      <td>0</td>\n",
              "      <td>136</td>\n",
              "      <td>0.125</td>\n",
              "    </tr>\n",
              "    <tr>\n",
              "      <th>1287361</th>\n",
              "      <td>0</td>\n",
              "      <td>209</td>\n",
              "      <td>0.125</td>\n",
              "    </tr>\n",
              "    <tr>\n",
              "      <th>1287362</th>\n",
              "      <td>0</td>\n",
              "      <td>431</td>\n",
              "      <td>0.125</td>\n",
              "    </tr>\n",
              "    <tr>\n",
              "      <th>1352198</th>\n",
              "      <td>0</td>\n",
              "      <td>375</td>\n",
              "      <td>0.125</td>\n",
              "    </tr>\n",
              "    <tr>\n",
              "      <th>1535240</th>\n",
              "      <td>0</td>\n",
              "      <td>186</td>\n",
              "      <td>0.250</td>\n",
              "    </tr>\n",
              "  </tbody>\n",
              "</table>\n",
              "</div>"
            ],
            "text/plain": [
              "        user_id  category_id  rating\n",
              "0             0          281   0.250\n",
              "1             0          136   0.125\n",
              "1287361       0          209   0.125\n",
              "1287362       0          431   0.125\n",
              "1352198       0          375   0.125\n",
              "1535240       0          186   0.250"
            ]
          },
          "execution_count": 18,
          "metadata": {},
          "output_type": "execute_result"
        }
      ],
      "source": [
        "# Supprimer les colonnes non utilisées\n",
        "all_clicks_df = all_clicks_df.drop(['total_click', 'total_click_by_category_id'], axis=1)\n",
        "\n",
        "all_clicks_df[all_clicks_df['user_id'] == 0]"
      ]
    },
    {
      "cell_type": "markdown",
      "metadata": {
        "nteract": {
          "transient": {
            "deleting": false
          }
        }
      },
      "source": [
        "Nous n’avons plus besoin de Total_click et total_click_by_category_id."
      ]
    },
    {
      "cell_type": "code",
      "execution_count": 19,
      "metadata": {
        "gather": {
          "logged": 1651434143912
        },
        "jupyter": {
          "outputs_hidden": false,
          "source_hidden": false
        },
        "nteract": {
          "transient": {
            "deleting": false
          }
        }
      },
      "outputs": [
        {
          "name": "stdout",
          "output_type": "stream",
          "text": [
            "Taille de notre échantillon  : (420672, 3)\n"
          ]
        }
      ],
      "source": [
        "# Garder ~42 000 utilisateurs pour construire notre modèle.\n",
        "df = all_clicks_df[all_clicks_df['user_id'] < 42000]\n",
        "print(f'Taille de notre échantillon  : {df.shape}')"
      ]
    },
    {
      "cell_type": "code",
      "execution_count": 20,
      "metadata": {
        "gather": {
          "logged": 1651434149965
        },
        "jupyter": {
          "outputs_hidden": false,
          "source_hidden": false
        },
        "nteract": {
          "transient": {
            "deleting": false
          }
        }
      },
      "outputs": [
        {
          "name": "stdout",
          "output_type": "stream",
          "text": [
            "Taille de l’ensemble d’essai : 105168\n"
          ]
        }
      ],
      "source": [
        "# Un lecteur est toujours nécessaire mais seul le paramètre rating_scale est requis.\n",
        "reader = Reader(rating_scale=(0, 1))\n",
        "\n",
        "# Diviser notre dataframe 75% train / 25% test\n",
        "data = Dataset.load_from_df(df[['user_id', 'category_id', 'rating']], reader)\n",
        "train_set, test_set = train_test_split(data, test_size=.25)\n",
        "print(f'Taille de l’ensemble d’essai : {len(test_set)}')"
      ]
    },
    {
      "cell_type": "markdown",
      "metadata": {
        "nteract": {
          "transient": {
            "deleting": false
          }
        }
      },
      "source": [
        "## SVD (référence)\n",
        "\n",
        "### Train Model"
      ]
    },
    {
      "cell_type": "code",
      "execution_count": 21,
      "metadata": {
        "jupyter": {
          "outputs_hidden": false,
          "source_hidden": false
        },
        "nteract": {
          "transient": {
            "deleting": false
          }
        }
      },
      "outputs": [
        {
          "name": "stdout",
          "output_type": "stream",
          "text": [
            "CPU times: user 16.6 s, sys: 0 ns, total: 16.6 s\n",
            "Wall time: 16.6 s\n"
          ]
        }
      ],
      "source": [
        "%%time\n",
        "model = SVD().fit(train_set)"
      ]
    },
    {
      "cell_type": "markdown",
      "metadata": {
        "nteract": {
          "transient": {
            "deleting": false
          }
        }
      },
      "source": [
        "### Résultats"
      ]
    },
    {
      "cell_type": "code",
      "execution_count": 22,
      "metadata": {
        "gather": {
          "logged": 1651434179357
        },
        "jupyter": {
          "outputs_hidden": false,
          "source_hidden": false
        },
        "nteract": {
          "transient": {
            "deleting": false
          }
        }
      },
      "outputs": [
        {
          "name": "stdout",
          "output_type": "stream",
          "text": [
            "RMSE: 0.1974\n",
            "MSE: 0.0389\n",
            "MAE:  0.1579\n",
            "Indice de prédiction pour l’utilisateur 0 avec catégorie 281 : 0.6049138567940071\n",
            "Current rating : [0.25]\n"
          ]
        }
      ],
      "source": [
        "predict = model.test(test_set)\n",
        "\n",
        "# Imprimer nos résultats \n",
        "accuracy.rmse(predict)\n",
        "accuracy.mse(predict)\n",
        "accuracy.mae(predict);\n",
        "\n",
        "print(f'Indice de prédiction pour l’utilisateur 0 avec catégorie 281 : {model.predict(0, 281).est}')\n",
        "print(f'Current rating : {df[(df[\"user_id\"] == 0) & (df[\"category_id\"] == 281)][\"rating\"].values}')"
      ]
    },
    {
      "cell_type": "markdown",
      "metadata": {
        "nteract": {
          "transient": {
            "deleting": false
          }
        }
      },
      "source": [
        "### Prédictions avec jeu d’essai"
      ]
    },
    {
      "cell_type": "code",
      "execution_count": 23,
      "metadata": {
        "gather": {
          "logged": 1651434179550
        },
        "jupyter": {
          "outputs_hidden": false,
          "source_hidden": false
        },
        "nteract": {
          "transient": {
            "deleting": false
          }
        }
      },
      "outputs": [],
      "source": [
        "# Fonction de https://github.com/NicolasHug/Surprise/blob/master/examples/top_n_recommendations.py\n",
        "def get_top_n(predictions, n=10):\n",
        "    \"\"\"Return the top-N recommendation for each user from a set of predictions.\n",
        "    Args:\n",
        "        predictions(list of Prediction objects): The list of predictions, as\n",
        "            returned by the test method of an algorithm.\n",
        "        n(int): The number of recommendation to output for each user. Default\n",
        "            is 10.\n",
        "    Returns:\n",
        "    A dict where keys are user (raw) ids and values are lists of tuples:\n",
        "        [(raw item id, rating estimation), ...] of size n.\n",
        "    \"\"\"\n",
        "\n",
        "    # Commencer par mapper les prédictions à chaque utilisateur.\n",
        "    top_n = defaultdict(list)\n",
        "    for uid, iid, true_r, est, _ in predictions:\n",
        "        top_n[uid].append((iid, est))\n",
        "\n",
        "    # Puis trier les prédictions pour chaque utilisateur et récupérer les clés les plus élevées.\n",
        "    for uid, user_ratings in top_n.items():\n",
        "        user_ratings.sort(key=lambda x: x[1], reverse=True)\n",
        "        top_n[uid] = user_ratings[:n]\n",
        "\n",
        "    return top_n"
      ]
    },
    {
      "cell_type": "code",
      "execution_count": 24,
      "metadata": {
        "gather": {
          "logged": 1651434220554
        },
        "jupyter": {
          "outputs_hidden": false,
          "source_hidden": false
        },
        "nteract": {
          "transient": {
            "deleting": false
          }
        }
      },
      "outputs": [],
      "source": [
        "top_n = get_top_n(predict, n=10)"
      ]
    },
    {
      "cell_type": "code",
      "execution_count": 25,
      "metadata": {
        "gather": {
          "logged": 1651434234503
        },
        "jupyter": {
          "outputs_hidden": false,
          "source_hidden": false
        },
        "nteract": {
          "transient": {
            "deleting": false
          }
        }
      },
      "outputs": [],
      "source": [
        "# Faire une recommandation simple pour l’utilisateur.\n",
        "def make_recommendation(user_ID, top_n, df_rating, articles_df):\n",
        "    \"\"\"Return a list of recommanded articles based on the taste of the user and all recommended categories\n",
        "    Args:\n",
        "        user_id -> user id used for recommendation\n",
        "        top_n -> top-N recommendation for each user from a set of predictions\n",
        "        df_rating -> df used to train our algo\n",
        "        articles_df -> df with metadata of all articles.\n",
        "    Returns:\n",
        "        list(recommanded articles), list(recommanded categories)\n",
        "    \"\"\"\n",
        "    # Obtenir le top 5 cat et l’ajouter à notre liste\n",
        "    recommanded_cat = [iid for iid, _ in top_n[user_ID]]\n",
        "    \n",
        "    # Si nous n’avons pas de recommandation, utilisez nos données.\n",
        "    if not recommanded_cat:\n",
        "        recommanded_cat = df[df['user_id'] == user_ID].nlargest(1, ['rating'])['category_id'].values\n",
        "    \n",
        "    # Sélectionner 5 articles aléatoires pour chaque catégorie recommandé.\n",
        "    random_articles_by_cat = [articles_df[articles_df['category_id'] == x]['article_id'].sample(5).values for x in recommanded_cat]\n",
        "    \n",
        "    # Sélectionner l’une des catégories recommandées et retourner 5 articles.\n",
        "    rand_category = random.sample(random_articles_by_cat, 1)\n",
        "    \n",
        "    return rand_category[0], recommanded_cat"
      ]
    },
    {
      "cell_type": "code",
      "execution_count": 26,
      "metadata": {
        "gather": {
          "logged": 1651434240496
        },
        "jupyter": {
          "outputs_hidden": false,
          "source_hidden": false
        },
        "nteract": {
          "transient": {
            "deleting": false
          }
        }
      },
      "outputs": [
        {
          "name": "stdout",
          "output_type": "stream",
          "text": [
            "catégories recommandées pour user_id[1] : [123]\n",
            "articles recommandés pour user_id[1] : [59851 59850 59856 59834 59838]\n"
          ]
        }
      ],
      "source": [
        "recommendation, categories = make_recommendation(1, top_n, df, articles_df)\n",
        "print(f'catégories recommandées pour user_id[1] : {categories}')\n",
        "print(f'articles recommandés pour user_id[1] : {recommendation}')"
      ]
    },
    {
      "cell_type": "markdown",
      "metadata": {
        "nteract": {
          "transient": {
            "deleting": false
          }
        }
      },
      "source": [
        "## KNNWithMeans (modèle collaboratif)\n",
        "\n",
        "### Train Model"
      ]
    },
    {
      "cell_type": "code",
      "execution_count": 27,
      "metadata": {
        "jupyter": {
          "outputs_hidden": false,
          "source_hidden": false
        },
        "nteract": {
          "transient": {
            "deleting": false
          }
        }
      },
      "outputs": [
        {
          "name": "stdout",
          "output_type": "stream",
          "text": [
            "Computing the cosine similarity matrix...\n",
            "Done computing similarity matrix.\n",
            "CPU times: user 240 ms, sys: 0 ns, total: 240 ms\n",
            "Wall time: 238 ms\n"
          ]
        }
      ],
      "source": [
        "%%time \n",
        "# Pour utiliser la similarité de cosinus basée sur l’article\n",
        "sim_options = {\n",
        "    \"name\": \"cosine\",\n",
        "    \"user_based\": False,  # Calculer les similitudes entre les éléments\n",
        "}\n",
        "model = KNNWithMeans(sim_options=sim_options).fit(train_set)"
      ]
    },
    {
      "cell_type": "markdown",
      "metadata": {
        "nteract": {
          "transient": {
            "deleting": false
          }
        }
      },
      "source": [
        "### Résultats"
      ]
    },
    {
      "cell_type": "code",
      "execution_count": 28,
      "metadata": {
        "gather": {
          "logged": 1651434328266
        },
        "jupyter": {
          "outputs_hidden": false,
          "source_hidden": false
        },
        "nteract": {
          "transient": {
            "deleting": false
          }
        }
      },
      "outputs": [
        {
          "name": "stdout",
          "output_type": "stream",
          "text": [
            "RMSE: 0.0977\n",
            "MSE: 0.0095\n",
            "MAE:  0.0503\n"
          ]
        }
      ],
      "source": [
        "predict = model.test(test_set)\n",
        "#Print our Results\n",
        "accuracy.rmse(predict)\n",
        "accuracy.mse(predict)\n",
        "accuracy.mae(predict);"
      ]
    },
    {
      "cell_type": "markdown",
      "metadata": {
        "nteract": {
          "transient": {
            "deleting": false
          }
        }
      },
      "source": [
        "assez bon ! maintenant voyons si nos prédictions de modèle seront différentes de SVD "
      ]
    },
    {
      "cell_type": "code",
      "execution_count": 29,
      "metadata": {
        "gather": {
          "logged": 1651434348021
        },
        "jupyter": {
          "outputs_hidden": false,
          "source_hidden": false
        },
        "nteract": {
          "transient": {
            "deleting": false
          }
        }
      },
      "outputs": [
        {
          "name": "stdout",
          "output_type": "stream",
          "text": [
            "Indice de prédiction pour l’utilisateur 0 avec catégorie 281 : 0.2711427932390439\n",
            "Current rating : [0.25]\n"
          ]
        }
      ],
      "source": [
        "print(f'Indice de prédiction pour l’utilisateur 0 avec catégorie 281 : {model.predict(0, 281).est}')\n",
        "print(f'Current rating : {df[(df[\"user_id\"] == 0) & (df[\"category_id\"] == 281)][\"rating\"].values}')"
      ]
    },
    {
      "cell_type": "markdown",
      "metadata": {
        "nteract": {
          "transient": {
            "deleting": false
          }
        }
      },
      "source": [
        "### Prédiction avec jeu d’essai "
      ]
    },
    {
      "cell_type": "code",
      "execution_count": 30,
      "metadata": {
        "gather": {
          "logged": 1651434366923
        },
        "jupyter": {
          "outputs_hidden": false,
          "source_hidden": false
        },
        "nteract": {
          "transient": {
            "deleting": false
          }
        }
      },
      "outputs": [],
      "source": [
        "top_n = get_top_n(predict, n=10)"
      ]
    },
    {
      "cell_type": "code",
      "execution_count": 31,
      "metadata": {
        "gather": {
          "logged": 1651434369717
        },
        "jupyter": {
          "outputs_hidden": false,
          "source_hidden": false
        },
        "nteract": {
          "transient": {
            "deleting": false
          }
        }
      },
      "outputs": [
        {
          "name": "stdout",
          "output_type": "stream",
          "text": [
            "catégories recommandées pour user_id[0] : [375]\n",
            "articles recommandés pour user_id[0] : [233828 237388 235495 236250 235260]\n"
          ]
        }
      ],
      "source": [
        "recommendation, categories = make_recommendation(3, top_n, df, articles_df)\n",
        "\n",
        "print(f'catégories recommandées pour user_id[0] : {categories}')\n",
        "print(f'articles recommandés pour user_id[0] : {recommendation}')"
      ]
    },
    {
      "cell_type": "markdown",
      "metadata": {
        "nteract": {
          "transient": {
            "deleting": false
          }
        }
      },
      "source": [
        "## Prédiction fondée sur le contenu\n",
        "\n",
        "Simple prédiction basée sur le contenu"
      ]
    },
    {
      "cell_type": "markdown",
      "metadata": {
        "nteract": {
          "transient": {
            "deleting": false
          }
        }
      },
      "source": [
        "[vers un article sur les données qui m’a aidé](https://towardsdatascience.com/recommender-system-in-python-part-1-preparation-and-analysis-d6bb7939091e)"
      ]
    },
    {
      "cell_type": "markdown",
      "metadata": {
        "nteract": {
          "transient": {
            "deleting": false
          }
        }
      },
      "source": [
        "### basée sur le contenu"
      ]
    },
    {
      "cell_type": "code",
      "execution_count": 32,
      "metadata": {
        "gather": {
          "logged": 1651434404001
        },
        "jupyter": {
          "outputs_hidden": false,
          "source_hidden": false
        },
        "nteract": {
          "transient": {
            "deleting": false
          }
        }
      },
      "outputs": [],
      "source": [
        "df_cb = df.copy()\n",
        "\n",
        "# Ajouter le nombre total de notation pour chaque \n",
        "num_ratings = pd.DataFrame(df_cb.groupby('category_id').count()['rating']).reset_index()\n",
        "df_cb = pd.merge(left=df_cb, right=num_ratings, on='category_id')\n",
        "df_cb.rename(columns={'rating_x': 'rating', 'rating_y': 'numRatings'}, inplace=True)"
      ]
    },
    {
      "cell_type": "code",
      "execution_count": 33,
      "metadata": {
        "gather": {
          "logged": 1651434409914
        },
        "jupyter": {
          "outputs_hidden": false,
          "source_hidden": false
        },
        "nteract": {
          "transient": {
            "deleting": false
          }
        }
      },
      "outputs": [],
      "source": [
        "# Category_id\n",
        "def get_similar_category(category_id, df, n_ratings_filter=50, n_recommendations=5):\n",
        "    matrix = df.pivot_table(\n",
        "        index='user_id',\n",
        "        columns='category_id',\n",
        "        values='rating'\n",
        "    )\n",
        "    \n",
        "    similar = matrix.corrwith(matrix[category_id])\n",
        "    corr_similar = pd.DataFrame(similar, columns=['correlation'])\n",
        "    corr_similar.dropna(inplace=True)\n",
        "    \n",
        "    orig = df.copy()\n",
        "    \n",
        "    corr_with_category = pd.merge(\n",
        "        left=corr_similar, \n",
        "        right=orig,\n",
        "        on='category_id')[['category_id', 'correlation', 'numRatings']].drop_duplicates().reset_index(drop=True)\n",
        "    \n",
        "    result = corr_with_category[corr_with_category['numRatings'] > n_ratings_filter].sort_values(by='correlation', ascending=False)\n",
        "    \n",
        "    result = result[result['category_id'] != category_id]\n",
        "    return result.head(n_recommendations)"
      ]
    },
    {
      "cell_type": "code",
      "execution_count": 34,
      "metadata": {
        "gather": {
          "logged": 1651434419698
        },
        "jupyter": {
          "outputs_hidden": false,
          "source_hidden": false
        },
        "nteract": {
          "transient": {
            "deleting": false
          }
        }
      },
      "outputs": [
        {
          "data": {
            "text/html": [
              "<div>\n",
              "<style scoped>\n",
              "    .dataframe tbody tr th:only-of-type {\n",
              "        vertical-align: middle;\n",
              "    }\n",
              "\n",
              "    .dataframe tbody tr th {\n",
              "        vertical-align: top;\n",
              "    }\n",
              "\n",
              "    .dataframe thead th {\n",
              "        text-align: right;\n",
              "    }\n",
              "</style>\n",
              "<table border=\"1\" class=\"dataframe\">\n",
              "  <thead>\n",
              "    <tr style=\"text-align: right;\">\n",
              "      <th></th>\n",
              "      <th>category_id</th>\n",
              "      <th>correlation</th>\n",
              "      <th>numRatings</th>\n",
              "    </tr>\n",
              "  </thead>\n",
              "  <tbody>\n",
              "    <tr>\n",
              "      <th>38</th>\n",
              "      <td>123</td>\n",
              "      <td>0.854137</td>\n",
              "      <td>5382</td>\n",
              "    </tr>\n",
              "    <tr>\n",
              "      <th>107</th>\n",
              "      <td>285</td>\n",
              "      <td>0.820774</td>\n",
              "      <td>1010</td>\n",
              "    </tr>\n",
              "    <tr>\n",
              "      <th>159</th>\n",
              "      <td>396</td>\n",
              "      <td>0.794898</td>\n",
              "      <td>1217</td>\n",
              "    </tr>\n",
              "    <tr>\n",
              "      <th>131</th>\n",
              "      <td>339</td>\n",
              "      <td>0.782811</td>\n",
              "      <td>824</td>\n",
              "    </tr>\n",
              "    <tr>\n",
              "      <th>138</th>\n",
              "      <td>353</td>\n",
              "      <td>0.716940</td>\n",
              "      <td>3297</td>\n",
              "    </tr>\n",
              "  </tbody>\n",
              "</table>\n",
              "</div>"
            ],
            "text/plain": [
              "     category_id  correlation  numRatings\n",
              "38           123     0.854137        5382\n",
              "107          285     0.820774        1010\n",
              "159          396     0.794898        1217\n",
              "131          339     0.782811         824\n",
              "138          353     0.716940        3297"
            ]
          },
          "execution_count": 34,
          "metadata": {},
          "output_type": "execute_result"
        }
      ],
      "source": [
        "result = get_similar_category(412, df_cb)\n",
        "\n",
        "# Top 5 des catégories de corrélation avec category_id\n",
        "result.head(5)"
      ]
    },
    {
      "cell_type": "markdown",
      "metadata": {
        "nteract": {
          "transient": {
            "deleting": false
          }
        }
      },
      "source": [
        "### Evaluation"
      ]
    },
    {
      "cell_type": "code",
      "execution_count": 35,
      "metadata": {
        "gather": {
          "logged": 1651434439111
        },
        "jupyter": {
          "outputs_hidden": false,
          "source_hidden": false
        },
        "nteract": {
          "transient": {
            "deleting": false
          }
        }
      },
      "outputs": [],
      "source": [
        "train, test = sklearn.model_selection.train_test_split(df_cb, test_size=0.3, random_state=42, shuffle=True)"
      ]
    },
    {
      "cell_type": "code",
      "execution_count": 36,
      "metadata": {
        "jupyter": {
          "outputs_hidden": false,
          "source_hidden": false
        },
        "nteract": {
          "transient": {
            "deleting": false
          }
        }
      },
      "outputs": [
        {
          "name": "stdout",
          "output_type": "stream",
          "text": [
            "CPU times: user 1min 58s, sys: 13.4 s, total: 2min 11s\n",
            "Wall time: 2min 11s\n"
          ]
        }
      ],
      "source": [
        "%%time\n",
        "all_categories = train['category_id'].unique()\n",
        "predictions = {}\n",
        "\n",
        "for val in all_categories:\n",
        "    predictions[val] = get_similar_category(val, train)"
      ]
    },
    {
      "cell_type": "code",
      "execution_count": 37,
      "metadata": {
        "gather": {
          "logged": 1651434573844
        },
        "jupyter": {
          "outputs_hidden": false,
          "source_hidden": false
        },
        "nteract": {
          "transient": {
            "deleting": false
          }
        }
      },
      "outputs": [
        {
          "data": {
            "text/html": [
              "<div>\n",
              "<style scoped>\n",
              "    .dataframe tbody tr th:only-of-type {\n",
              "        vertical-align: middle;\n",
              "    }\n",
              "\n",
              "    .dataframe tbody tr th {\n",
              "        vertical-align: top;\n",
              "    }\n",
              "\n",
              "    .dataframe thead th {\n",
              "        text-align: right;\n",
              "    }\n",
              "</style>\n",
              "<table border=\"1\" class=\"dataframe\">\n",
              "  <thead>\n",
              "    <tr style=\"text-align: right;\">\n",
              "      <th></th>\n",
              "      <th>user_id</th>\n",
              "      <th>category_id</th>\n",
              "      <th>rating</th>\n",
              "      <th>numRatings</th>\n",
              "    </tr>\n",
              "  </thead>\n",
              "  <tbody>\n",
              "    <tr>\n",
              "      <th>418918</th>\n",
              "      <td>2</td>\n",
              "      <td>332</td>\n",
              "      <td>0.25</td>\n",
              "      <td>2769</td>\n",
              "    </tr>\n",
              "  </tbody>\n",
              "</table>\n",
              "</div>"
            ],
            "text/plain": [
              "       user_id  category_id  rating  numRatings\n",
              "418918       2          332    0.25        2769"
            ]
          },
          "execution_count": 37,
          "metadata": {},
          "output_type": "execute_result"
        }
      ],
      "source": [
        "train[train['user_id'] == 2]"
      ]
    },
    {
      "cell_type": "code",
      "execution_count": 38,
      "metadata": {
        "gather": {
          "logged": 1651434574073
        },
        "jupyter": {
          "outputs_hidden": false,
          "source_hidden": false
        },
        "nteract": {
          "transient": {
            "deleting": false
          }
        }
      },
      "outputs": [
        {
          "data": {
            "text/html": [
              "<div>\n",
              "<style scoped>\n",
              "    .dataframe tbody tr th:only-of-type {\n",
              "        vertical-align: middle;\n",
              "    }\n",
              "\n",
              "    .dataframe tbody tr th {\n",
              "        vertical-align: top;\n",
              "    }\n",
              "\n",
              "    .dataframe thead th {\n",
              "        text-align: right;\n",
              "    }\n",
              "</style>\n",
              "<table border=\"1\" class=\"dataframe\">\n",
              "  <thead>\n",
              "    <tr style=\"text-align: right;\">\n",
              "      <th></th>\n",
              "      <th>category_id</th>\n",
              "      <th>correlation</th>\n",
              "      <th>numRatings</th>\n",
              "    </tr>\n",
              "  </thead>\n",
              "  <tbody>\n",
              "    <tr>\n",
              "      <th>125</th>\n",
              "      <td>402</td>\n",
              "      <td>1.000000</td>\n",
              "      <td>62</td>\n",
              "    </tr>\n",
              "    <tr>\n",
              "      <th>81</th>\n",
              "      <td>295</td>\n",
              "      <td>0.998921</td>\n",
              "      <td>74</td>\n",
              "    </tr>\n",
              "    <tr>\n",
              "      <th>54</th>\n",
              "      <td>211</td>\n",
              "      <td>0.996745</td>\n",
              "      <td>54</td>\n",
              "    </tr>\n",
              "    <tr>\n",
              "      <th>74</th>\n",
              "      <td>271</td>\n",
              "      <td>0.994981</td>\n",
              "      <td>53</td>\n",
              "    </tr>\n",
              "    <tr>\n",
              "      <th>46</th>\n",
              "      <td>184</td>\n",
              "      <td>0.992412</td>\n",
              "      <td>79</td>\n",
              "    </tr>\n",
              "  </tbody>\n",
              "</table>\n",
              "</div>"
            ],
            "text/plain": [
              "     category_id  correlation  numRatings\n",
              "125          402     1.000000          62\n",
              "81           295     0.998921          74\n",
              "54           211     0.996745          54\n",
              "74           271     0.994981          53\n",
              "46           184     0.992412          79"
            ]
          },
          "execution_count": 38,
          "metadata": {},
          "output_type": "execute_result"
        }
      ],
      "source": [
        "predictions[332]"
      ]
    },
    {
      "cell_type": "code",
      "execution_count": 39,
      "metadata": {
        "gather": {
          "logged": 1651434574362
        },
        "jupyter": {
          "outputs_hidden": false,
          "source_hidden": false
        },
        "nteract": {
          "transient": {
            "deleting": false
          }
        }
      },
      "outputs": [
        {
          "data": {
            "text/html": [
              "<div>\n",
              "<style scoped>\n",
              "    .dataframe tbody tr th:only-of-type {\n",
              "        vertical-align: middle;\n",
              "    }\n",
              "\n",
              "    .dataframe tbody tr th {\n",
              "        vertical-align: top;\n",
              "    }\n",
              "\n",
              "    .dataframe thead th {\n",
              "        text-align: right;\n",
              "    }\n",
              "</style>\n",
              "<table border=\"1\" class=\"dataframe\">\n",
              "  <thead>\n",
              "    <tr style=\"text-align: right;\">\n",
              "      <th></th>\n",
              "      <th>user_id</th>\n",
              "      <th>category_id</th>\n",
              "      <th>rating</th>\n",
              "      <th>numRatings</th>\n",
              "    </tr>\n",
              "  </thead>\n",
              "  <tbody>\n",
              "    <tr>\n",
              "      <th>71148</th>\n",
              "      <td>2</td>\n",
              "      <td>247</td>\n",
              "      <td>0.25</td>\n",
              "      <td>10563</td>\n",
              "    </tr>\n",
              "    <tr>\n",
              "      <th>81711</th>\n",
              "      <td>2</td>\n",
              "      <td>26</td>\n",
              "      <td>0.50</td>\n",
              "      <td>7542</td>\n",
              "    </tr>\n",
              "  </tbody>\n",
              "</table>\n",
              "</div>"
            ],
            "text/plain": [
              "      user_id  category_id  rating  numRatings\n",
              "71148       2          247    0.25       10563\n",
              "81711       2           26    0.50        7542"
            ]
          },
          "execution_count": 39,
          "metadata": {},
          "output_type": "execute_result"
        }
      ],
      "source": [
        "test[test['user_id'] == 2]"
      ]
    },
    {
      "cell_type": "markdown",
      "metadata": {
        "nteract": {
          "transient": {
            "deleting": false
          }
        }
      },
      "source": [
        "Après quelques essais avec différents utilisateurs je réalise que le manque d’information ne me permet pas d’utiliser cette méthode de manière efficace"
      ]
    },
    {
      "cell_type": "markdown",
      "metadata": {
        "nteract": {
          "transient": {
            "deleting": false
          }
        }
      },
      "source": [
        "## Choisir le meilleur modèle et le meilleur déploiement"
      ]
    },
    {
      "cell_type": "code",
      "execution_count": 40,
      "metadata": {
        "jupyter": {
          "outputs_hidden": false,
          "source_hidden": false
        },
        "nteract": {
          "transient": {
            "deleting": false
          }
        }
      },
      "outputs": [
        {
          "name": "stdout",
          "output_type": "stream",
          "text": [
            "Computing the cosine similarity matrix...\n",
            "Done computing similarity matrix.\n",
            "CPU times: user 1.02 s, sys: 15.7 ms, total: 1.04 s\n",
            "Wall time: 1.03 s\n"
          ]
        }
      ],
      "source": [
        "%%time\n",
        "\n",
        "# Récupérer le train\n",
        "train_set = data.build_full_trainset()\n",
        "\n",
        "# Pour utiliser la similarité de cosinus basée sur l’article\n",
        "sim_options = {\n",
        "    \"name\": \"cosine\",\n",
        "    \"user_based\": False, # Calculer les similitudes entre les éléments \n",
        "}\n",
        "\n",
        "model = KNNWithMeans(sim_options=sim_options).fit(train_set)"
      ]
    },
    {
      "cell_type": "code",
      "execution_count": 41,
      "metadata": {
        "gather": {
          "logged": 1651434574976
        },
        "jupyter": {
          "outputs_hidden": false,
          "source_hidden": false
        },
        "nteract": {
          "transient": {
            "deleting": false
          }
        }
      },
      "outputs": [],
      "source": [
        "def predict_best_category_for_user(user_id, model, article_df):\n",
        "    predictions = {}\n",
        "    \n",
        "    # Catégories 1 à 460\n",
        "    for i in range(1, 460):\n",
        "        _, cat_id, _, est, err = model.predict(user_id, i)\n",
        "        \n",
        "        # Gardez la prédiction seulement si nous pouvons la garder.\n",
        "        if (err != True):\n",
        "            predictions[cat_id] = est\n",
        "    \n",
        "    best_cats_to_recommend = dict(sorted(predictions.items(), key=lambda x: x[1], reverse=True)[:5])\n",
        "    \n",
        "    recommended_articles = []\n",
        "    for key, _ in best_cats_to_recommend.items():\n",
        "        recommended_articles.append(int(articles_df[articles_df['category_id'] == key]['article_id'].sample(1).values))\n",
        "    \n",
        "    # Retourner articles-aléatoires-pour-la-meilleure-catégorie, la-meilleure-catégorie-de-recommander\n",
        "    return recommended_articles, best_cats_to_recommend"
      ]
    },
    {
      "cell_type": "code",
      "execution_count": 42,
      "metadata": {
        "gather": {
          "logged": 1651434575143
        },
        "jupyter": {
          "outputs_hidden": false,
          "source_hidden": false
        },
        "nteract": {
          "transient": {
            "deleting": false
          }
        }
      },
      "outputs": [
        {
          "name": "stdout",
          "output_type": "stream",
          "text": [
            "Catégorie recommandé : {22: 0.5, 70: 0.5, 159: 0.5, 370: 0.5, 62: 0.311823069331905}\n",
            "5 articles aléatoires de catégorie [24993, 43057, 78546, 227595, 38866]\n"
          ]
        }
      ],
      "source": [
        "results, recommended_cats = predict_best_category_for_user(1, model, articles_df)\n",
        "\n",
        "print(f'Catégorie recommandé : {recommended_cats}')\n",
        "print(f'5 articles aléatoires de catégorie {results}')"
      ]
    },
    {
      "cell_type": "code",
      "execution_count": 43,
      "metadata": {
        "gather": {
          "logged": 1651434575702
        },
        "jupyter": {
          "outputs_hidden": false,
          "source_hidden": false
        },
        "nteract": {
          "transient": {
            "deleting": false
          }
        }
      },
      "outputs": [],
      "source": [
        "# Enregistrer dans le fichier dans le répertoire de travail actuel\n",
        "pkl_filename = \"pickle_surprise_model_KNNWithMeans.pkl\"\n",
        "\n",
        "with open(pkl_filename, 'wb') as file:\n",
        "    pickle.dump(model, file)\n",
        "\n",
        "# Charger à partir du fichier\n",
        "with open(pkl_filename, 'rb') as file:\n",
        "    pickle_model = pickle.load(file)"
      ]
    },
    {
      "cell_type": "code",
      "execution_count": 44,
      "metadata": {
        "gather": {
          "logged": 1651434575881
        },
        "jupyter": {
          "outputs_hidden": false,
          "source_hidden": false
        },
        "nteract": {
          "transient": {
            "deleting": false
          }
        }
      },
      "outputs": [
        {
          "name": "stdout",
          "output_type": "stream",
          "text": [
            "Catégorie recommandé : {22: 0.5, 70: 0.5, 159: 0.5, 370: 0.5, 62: 0.311823069331905}\n",
            "5 articles aléatoires de catégorie [24996, 43063, 78546, 227593, 38889]\n"
          ]
        }
      ],
      "source": [
        "results, recommended_cats = predict_best_category_for_user(1, pickle_model, articles_df)\n",
        "\n",
        "print(f'Catégorie recommandé : {recommended_cats}')\n",
        "print(f'5 articles aléatoires de catégorie {results}')"
      ]
    }
  ],
  "metadata": {
    "kernel_info": {
      "name": "python38-azureml"
    },
    "kernelspec": {
      "display_name": "Python 3.8 - AzureML",
      "language": "python",
      "name": "python38-azureml"
    },
    "language_info": {
      "codemirror_mode": {
        "name": "ipython",
        "version": 3
      },
      "file_extension": ".py",
      "mimetype": "text/x-python",
      "name": "python",
      "nbconvert_exporter": "python",
      "pygments_lexer": "ipython3",
      "version": "3.8.5"
    },
    "microsoft": {
      "host": {
        "AzureML": {
          "notebookHasBeenCompleted": true
        }
      }
    },
    "nteract": {
      "version": "nteract-front-end@1.0.0"
    }
  },
  "nbformat": 4,
  "nbformat_minor": 2
}
